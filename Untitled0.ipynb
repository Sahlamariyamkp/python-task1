{
  "cells": [
    {
      "cell_type": "code",
      "execution_count": null,
      "metadata": {
        "colab": {
          "base_uri": "https://localhost:8080/"
        },
        "id": "M_wvqPdPK0GJ",
        "outputId": "2d75f38b-ce5f-4412-aaa5-97b4d946a2a4"
      },
      "outputs": [
        {
          "name": "stdout",
          "output_type": "stream",
          "text": [
            "hello\n"
          ]
        }
      ],
      "source": [
        "a=100\n",
        "b=50\n",
        "if a>b:\n",
        "  print(\"hello\")\n",
        "else:\n",
        "  print(\"hi\")\n",
        "   "
      ]
    },
    {
      "cell_type": "code",
      "execution_count": null,
      "metadata": {
        "colab": {
          "base_uri": "https://localhost:8080/"
        },
        "id": "QzJggdmHLkbV",
        "outputId": "5fc12fd3-7c77-4a6e-fa1a-286f36e49864"
      },
      "outputs": [
        {
          "name": "stdout",
          "output_type": "stream",
          "text": [
            "how are you\n",
            "how are you\n"
          ]
        }
      ],
      "source": [
        "a=55\n",
        "b=55\n",
        "if a>b:\n",
        "  print(\"hello\")\n",
        "elif a<b:\n",
        "  print(\"hi\")\n",
        "else:\n",
        "  print(\"how are you\")    "
      ]
    },
    {
      "cell_type": "code",
      "execution_count": null,
      "metadata": {
        "colab": {
          "base_uri": "https://localhost:8080/"
        },
        "id": "pa0PhKvsPVkd",
        "outputId": "334beb5d-a1de-421e-e80a-e11dbc8167e9"
      },
      "outputs": [
        {
          "name": "stdout",
          "output_type": "stream",
          "text": [
            "c is greater\n"
          ]
        }
      ],
      "source": [
        "a=20\n",
        "b=50\n",
        "c=70\n",
        "if a>b and a>c:\n",
        "  print(\"a is greater\")\n",
        "elif b>a and b>c:\n",
        "  print(\"b is greater\")\n",
        "else:\n",
        "  print(\"c is greater\")    \n",
        "\n",
        "  "
      ]
    },
    {
      "cell_type": "code",
      "execution_count": null,
      "metadata": {
        "colab": {
          "base_uri": "https://localhost:8080/"
        },
        "id": "IQZgIBRkSHmu",
        "outputId": "c7ff5bba-8d16-4092-9dcf-30fe808294e3"
      },
      "outputs": [
        {
          "name": "stdout",
          "output_type": "stream",
          "text": [
            "1\n",
            "2\n",
            "3\n",
            "4\n",
            "5\n",
            "6\n",
            "7\n",
            "8\n",
            "9\n",
            "10\n"
          ]
        }
      ],
      "source": [
        "i=0\n",
        "while(i<10):\n",
        "  i+=1\n",
        "  print(i)\n",
        "  "
      ]
    },
    {
      "cell_type": "code",
      "execution_count": null,
      "metadata": {
        "colab": {
          "base_uri": "https://localhost:8080/"
        },
        "id": "diMiLk35TrE1",
        "outputId": "0502b459-7ca2-409c-8bcc-2ae619011fec"
      },
      "outputs": [
        {
          "name": "stdout",
          "output_type": "stream",
          "text": [
            "1\n",
            "2\n"
          ]
        }
      ],
      "source": [
        "i=0\n",
        "while(i<8): \n",
        "  i+=1\n",
        "  if i==3:\n",
        "   break\n",
        "  print(i)\n",
        "   \n",
        " \n",
        "\n",
        "\n",
        "\n"
      ]
    },
    {
      "cell_type": "code",
      "execution_count": null,
      "metadata": {
        "colab": {
          "base_uri": "https://localhost:8080/"
        },
        "id": "16PzIfC4Wlrz",
        "outputId": "6e26f211-4d04-49e2-949b-64683c710cb9"
      },
      "outputs": [
        {
          "name": "stdout",
          "output_type": "stream",
          "text": [
            "1\n",
            "2\n",
            "4\n",
            "5\n",
            "6\n",
            "7\n",
            "8\n"
          ]
        }
      ],
      "source": [
        "i=0\n",
        "while(i<8):\n",
        "  i+=1\n",
        "  if i==3:\n",
        "    continue\n",
        "  print(i)\n"
      ]
    },
    {
      "cell_type": "code",
      "execution_count": null,
      "metadata": {
        "colab": {
          "base_uri": "https://localhost:8080/"
        },
        "id": "sg0T1OSLXtDp",
        "outputId": "cc8861c6-aefe-4129-c550-516299a167f2"
      },
      "outputs": [
        {
          "name": "stdout",
          "output_type": "stream",
          "text": [
            "100\n",
            "95\n",
            "90\n",
            "85\n",
            "80\n",
            "75\n",
            "70\n",
            "65\n",
            "60\n",
            "55\n"
          ]
        }
      ],
      "source": [
        "for i in range(100,50,-5):\n",
        "    print(i)"
      ]
    },
    {
      "cell_type": "code",
      "execution_count": null,
      "metadata": {
        "id": "Hhg5dcIIY4SS"
      },
      "outputs": [],
      "source": []
    },
    {
      "cell_type": "code",
      "execution_count": null,
      "metadata": {
        "id": "uSoOCNsdY5kA"
      },
      "outputs": [],
      "source": []
    },
    {
      "cell_type": "code",
      "execution_count": null,
      "metadata": {
        "colab": {
          "base_uri": "https://localhost:8080/"
        },
        "id": "MKgiG7siYQC6",
        "outputId": "5c707951-190b-4e38-8dbe-edc65f8bcf90"
      },
      "outputs": [
        {
          "name": "stdout",
          "output_type": "stream",
          "text": [
            "10\n",
            "15\n",
            "20\n",
            "25\n",
            "30\n",
            "35\n",
            "40\n",
            "45\n"
          ]
        }
      ],
      "source": [
        "for i in range(10,50,5):\n",
        "  print(i)"
      ]
    },
    {
      "cell_type": "code",
      "execution_count": null,
      "metadata": {
        "colab": {
          "base_uri": "https://localhost:8080/"
        },
        "id": "b-BaTbrXY9Gv",
        "outputId": "45a7f907-e5bb-4349-b149-fad26dfd4c82"
      },
      "outputs": [
        {
          "name": "stdout",
          "output_type": "stream",
          "text": [
            "apple\n",
            "banana\n",
            "cherry\n"
          ]
        }
      ],
      "source": [
        "list=[\"apple\",\"banana\",\"cherry\"]\n",
        "for i in list:\n",
        "  print(i)\n"
      ]
    },
    {
      "cell_type": "code",
      "execution_count": null,
      "metadata": {
        "colab": {
          "base_uri": "https://localhost:8080/"
        },
        "id": "rp1zt9vlaQ-p",
        "outputId": "af1ec07e-f2f7-4ac1-babc-502cad701866"
      },
      "outputs": [
        {
          "output_type": "stream",
          "name": "stdout",
          "text": [
            "true\n"
          ]
        }
      ],
      "source": [
        "list=[19,19,5,5,5]\n",
        "if list.count(19)==2and list.count(5)==3:\n",
        "  print(\"true\")\n",
        "else:\n",
        "  print(\"false\")  "
      ]
    },
    {
      "cell_type": "code",
      "source": [],
      "metadata": {
        "id": "qLNza0MLUkHw"
      },
      "execution_count": null,
      "outputs": []
    },
    {
      "cell_type": "code",
      "source": [],
      "metadata": {
        "id": "JC1K4ZqeUpSi"
      },
      "execution_count": null,
      "outputs": []
    },
    {
      "cell_type": "code",
      "source": [],
      "metadata": {
        "id": "F-RiAIG9VEMO"
      },
      "execution_count": null,
      "outputs": []
    },
    {
      "cell_type": "code",
      "source": [
        "list=[19,19,19,5,5,5,5]\n",
        "if list.count(19)==2and list.count(5)==3:\n",
        "  print(\"true\")\n",
        "else:\n",
        "  print(\"false\")  "
      ],
      "metadata": {
        "colab": {
          "base_uri": "https://localhost:8080/"
        },
        "id": "IUAuA-2wUJdj",
        "outputId": "6dc88be9-41fc-4a67-ec46-8bc7b9b23df4"
      },
      "execution_count": null,
      "outputs": [
        {
          "output_type": "stream",
          "name": "stdout",
          "text": [
            "false\n"
          ]
        }
      ]
    },
    {
      "cell_type": "code",
      "source": [
        "for i in range(1,50,2):\n",
        "  print(i)"
      ],
      "metadata": {
        "colab": {
          "base_uri": "https://localhost:8080/"
        },
        "id": "_ynvpespVr4d",
        "outputId": "e69f9c00-b729-4e5a-ee50-e34be4d997e0"
      },
      "execution_count": null,
      "outputs": [
        {
          "output_type": "stream",
          "name": "stdout",
          "text": [
            "1\n",
            "3\n",
            "5\n",
            "7\n",
            "9\n",
            "11\n",
            "13\n",
            "15\n",
            "17\n",
            "19\n",
            "21\n",
            "23\n",
            "25\n",
            "27\n",
            "29\n",
            "31\n",
            "33\n",
            "35\n",
            "37\n",
            "39\n",
            "41\n",
            "43\n",
            "45\n",
            "47\n",
            "49\n"
          ]
        }
      ]
    },
    {
      "cell_type": "code",
      "source": [
        "a=[]\n",
        "b=int(input(\"enter a number\"))\n",
        "for i in range(1,b,2):\n",
        "  a.append(i)\n",
        "print(a) "
      ],
      "metadata": {
        "colab": {
          "base_uri": "https://localhost:8080/"
        },
        "id": "yl6aLiASWD8_",
        "outputId": "cabca621-6240-4b6f-b111-2cb4a5e9fc2f"
      },
      "execution_count": null,
      "outputs": [
        {
          "output_type": "stream",
          "name": "stdout",
          "text": [
            "enter a number20\n",
            "[1, 3, 5, 7, 9, 11, 13, 15, 17, 19]\n"
          ]
        }
      ]
    },
    {
      "cell_type": "code",
      "source": [
        "a=[]\n",
        "for i in range(12,101):\n",
        "   if i%12==0:\n",
        "     a.append(i)\n",
        "print(a) \n",
        "b=[]\n",
        "for j in a:\n",
        "  if j%14==0:\n",
        "    b.append(j)\n",
        "print(b)   "
      ],
      "metadata": {
        "colab": {
          "base_uri": "https://localhost:8080/"
        },
        "id": "DEyYokZEY-s7",
        "outputId": "b2ebb565-410f-4adf-f5c1-d7891fa723d4"
      },
      "execution_count": null,
      "outputs": [
        {
          "output_type": "stream",
          "name": "stdout",
          "text": [
            "[12, 24, 36, 48, 60, 72, 84, 96]\n",
            "[84]\n"
          ]
        }
      ]
    },
    {
      "cell_type": "code",
      "source": [
        "a=[]\n",
        "b=[]\n",
        "for i in range(1,101):\n",
        "  if i%2!=0:\n",
        "    a.append(i)\n",
        "  else:\n",
        "    b.append(i)\n",
        "print(a)\n",
        "print(b)     "
      ],
      "metadata": {
        "colab": {
          "base_uri": "https://localhost:8080/"
        },
        "id": "6Qiam6HvaT93",
        "outputId": "96a091b9-3c0b-4cea-ec8f-d3da503c4f5b"
      },
      "execution_count": null,
      "outputs": [
        {
          "output_type": "stream",
          "name": "stdout",
          "text": [
            "[1, 3, 5, 7, 9, 11, 13, 15, 17, 19, 21, 23, 25, 27, 29, 31, 33, 35, 37, 39, 41, 43, 45, 47, 49, 51, 53, 55, 57, 59, 61, 63, 65, 67, 69, 71, 73, 75, 77, 79, 81, 83, 85, 87, 89, 91, 93, 95, 97, 99]\n",
            "[2, 4, 6, 8, 10, 12, 14, 16, 18, 20, 22, 24, 26, 28, 30, 32, 34, 36, 38, 40, 42, 44, 46, 48, 50, 52, 54, 56, 58, 60, 62, 64, 66, 68, 70, 72, 74, 76, 78, 80, 82, 84, 86, 88, 90, 92, 94, 96, 98, 100]\n"
          ]
        }
      ]
    },
    {
      "cell_type": "code",
      "source": [
        "a=[\"anu\",\"sanu\",\"sahla\"]\n",
        "b=[\"a12\",\"b12\",\"c12\"]\n",
        "name=input(\"enter your username\")\n",
        "if name in a:\n",
        "  ind=a.index(name)\n",
        "  password=input(\"enter your password\")\n",
        "  if password in b and ind==b.index(password):\n",
        "  \n",
        "    print(\"welcome\")\n",
        "  else:\n",
        "   print(\"invalid password\")  \n",
        "else:\n",
        "     print(\"incorrect username\")  "
      ],
      "metadata": {
        "colab": {
          "base_uri": "https://localhost:8080/"
        },
        "id": "SGHqIQG9bN69",
        "outputId": "ada2d3f9-ff68-4517-af64-5d82f83552e0"
      },
      "execution_count": null,
      "outputs": [
        {
          "output_type": "stream",
          "name": "stdout",
          "text": [
            "enter your usernameanu\n",
            "enter your passworda12\n",
            "welcome\n",
            "enter your usernamesanu\n",
            "enter your passwordc12\n",
            "invalid password\n"
          ]
        }
      ]
    },
    {
      "cell_type": "code",
      "source": [
        "num=int(input(\"enter a number\"))\n",
        "for i in range(2,num):\n",
        "    if num%i==0:\n",
        "     print(\"num is  not prime\")\n",
        "     break\n",
        "    else:\n",
        "     print(\"num is prime\")\n",
        "     break  \n"
      ],
      "metadata": {
        "colab": {
          "base_uri": "https://localhost:8080/"
        },
        "id": "1W1h0UgOj9_-",
        "outputId": "b7a9fdf6-f72f-4081-b2d7-d0d0e22ffce5"
      },
      "execution_count": null,
      "outputs": [
        {
          "output_type": "stream",
          "name": "stdout",
          "text": [
            "enter a number5\n",
            "num is prime\n"
          ]
        }
      ]
    },
    {
      "cell_type": "code",
      "source": [
        "a=int(input(\"enter tem in celcius\"))\n",
        "farren=a*(9/5)+32\n",
        "print(a,farren)\n",
        "\n"
      ],
      "metadata": {
        "colab": {
          "base_uri": "https://localhost:8080/"
        },
        "id": "T7F3I4wCrKOi",
        "outputId": "993034c9-d1ae-4a87-b273-eb54a3c87554"
      },
      "execution_count": null,
      "outputs": [
        {
          "output_type": "stream",
          "name": "stdout",
          "text": [
            "enter tem in celcius32\n",
            "32 89.6\n"
          ]
        }
      ]
    },
    {
      "cell_type": "code",
      "source": [
        "a=input(\"enter a string\")\n",
        "\n",
        "if a==a[::-1]:\n",
        "  print(\"pallindrome\")\n",
        "else:\n",
        "   print(\"not palindrome\") \n"
      ],
      "metadata": {
        "colab": {
          "base_uri": "https://localhost:8080/"
        },
        "id": "7wZPbiBBuNEX",
        "outputId": "ae8f2dd6-3657-4d80-ffb9-3e2d4c04b9da"
      },
      "execution_count": null,
      "outputs": [
        {
          "output_type": "stream",
          "name": "stdout",
          "text": [
            "enter a stringmalayalam\n",
            "pallindrome\n"
          ]
        }
      ]
    },
    {
      "cell_type": "code",
      "source": [
        "a=input(\"enter a string\")\n",
        "if a[0]==\"p\":\n",
        "  print(\"welcome\")\n",
        "else:\n",
        "    print(\"no entry\")\n"
      ],
      "metadata": {
        "colab": {
          "base_uri": "https://localhost:8080/"
        },
        "id": "pXCZq_c0zPbo",
        "outputId": "2f8a83d7-6352-43be-d519-1913691e67dc"
      },
      "execution_count": null,
      "outputs": [
        {
          "output_type": "stream",
          "name": "stdout",
          "text": [
            "enter a stringsahla\n",
            "no entry\n"
          ]
        }
      ]
    },
    {
      "cell_type": "code",
      "source": [
        "a=input(\"enter a string\")\n",
        "if a.startswith(\"p\"):\n",
        "  print(\"welcome\")\n",
        "else:\n",
        "    print(\"no entry\")\n"
      ],
      "metadata": {
        "colab": {
          "base_uri": "https://localhost:8080/"
        },
        "id": "uKH7NM9p22UE",
        "outputId": "dfd51c7d-5c7f-4b67-b451-01de88db4829"
      },
      "execution_count": null,
      "outputs": [
        {
          "output_type": "stream",
          "name": "stdout",
          "text": [
            "enter a stringpara\n",
            "welcome\n"
          ]
        }
      ]
    },
    {
      "cell_type": "code",
      "source": [
        "a=input(\"enter a paragraph\")\n",
        "b=(\"a\",\"e\",\"i\",\"o\",\"u\",\"A\",\"E\",\"I\",\"O\",\"U\")\n",
        "count=0\n",
        "for i in a:\n",
        "  if i in b:\n",
        "    count=count+1\n",
        "    if count!=0:\n",
        "      print(count)\n",
        "\n",
        "\n",
        "\n"
      ],
      "metadata": {
        "id": "C4XxyiBj3oNZ"
      },
      "execution_count": null,
      "outputs": []
    }
  ],
  "metadata": {
    "colab": {
      "provenance": []
    },
    "kernelspec": {
      "display_name": "Python 3",
      "name": "python3"
    },
    "language_info": {
      "name": "python"
    }
  },
  "nbformat": 4,
  "nbformat_minor": 0
}