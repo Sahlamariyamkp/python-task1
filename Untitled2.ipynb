{
  "cells": [
    {
      "cell_type": "code",
      "execution_count": null,
      "metadata": {
        "colab": {
          "base_uri": "https://localhost:8080/"
        },
        "id": "K09n4h7JftVX",
        "outputId": "b754b207-55cd-4a71-bff2-769424a59e70"
      },
      "outputs": [
        {
          "name": "stdout",
          "output_type": "stream",
          "text": [
            "2002 , 2009 , 2016 , 2023 , 2037 , 2044 , 2051 , 2058 , 2072 , 2079 , 2086 , 2093 , 2107 , 2114 , 2121 , 2128 , 2142 , 2149 , 2156 , 2163 , 2177 , 2184 , 2191 , 2198 , 2212 , 2219 , 2226 , 2233 , 2247 , 2254 , 2261 , 2268 , 2282 , 2289 , 2296 , 2303 , 2317 , 2324 , 2331 , 2338 , 2352 , 2359 , 2366 , 2373 , 2387 , 2394 , 2401 , 2408 , 2422 , 2429 , 2436 , 2443 , 2457 , 2464 , 2471 , 2478 , 2492 , 2499 , 2506 , 2513 , 2527 , 2534 , 2541 , 2548 , 2562 , 2569 , 2576 , 2583 , 2597 , 2604 , 2611 , 2618 , 2632 , 2639 , 2646 , 2653 , 2667 , 2674 , 2681 , 2688 , 2702 , 2709 , 2716 , 2723 , 2737 , 2744 , 2751 , 2758 , 2772 , 2779 , 2786 , 2793 , 2807 , 2814 , 2821 , 2828 , 2842 , 2849 , 2856 , 2863 , 2877 , 2884 , 2891 , 2898 , 2912 , 2919 , 2926 , 2933 , 2947 , 2954 , 2961 , 2968 , 2982 , 2989 , 2996 , 3003 , 3017 , 3024 , 3031 , 3038 , 3052 , 3059 , 3066 , 3073 , 3087 , 3094 , 3101 , 3108 , 3122 , 3129 , 3136 , 3143 , 3157 , 3164 , 3171 , 3178 , 3192 , 3199 , "
          ]
        }
      ],
      "source": [
        "#write a program which will find all such numbers which are divisible by 7 but are not a multidple of 5, between 2000 and 3200(both include).\n",
        "#the numbers obtained  should be printed in acomma-separated sequence on a single line\n",
        "\n",
        "for i in range(2000,3201):\n",
        "  if i%7==0 and i%5!=0:\n",
        "    print(i,end=\" , \")\n",
        "\n",
        "    #l=[]\n",
        "    #for i in rage(2000,3201):\n",
        "    #if i%7==0 and i%5!=0:\n",
        "    #i.append(str(i))\n",
        "    #print(','.join(l))\n",
        "\n"
      ]
    },
    {
      "cell_type": "code",
      "execution_count": null,
      "metadata": {
        "colab": {
          "base_uri": "https://localhost:8080/"
        },
        "id": "ihn5i8UMlZqJ",
        "outputId": "e5734929-fde1-43ec-b9ab-9fe4a0c0dc61"
      },
      "outputs": [
        {
          "name": "stdout",
          "output_type": "stream",
          "text": [
            "enter a namber5\n",
            "{1: 1, 2: 4, 3: 9, 4: 16, 5: 25}\n"
          ]
        }
      ],
      "source": [
        "#with a given integral number n,write a programe to generate a dictionary that contains(i,i*i)such that is an integral number between 1 and n (both included).\n",
        "#and then the programe should print  dictionary\n",
        "\n",
        "d={}\n",
        "n=int(input(\"enter a namber\"))\n",
        "for i in range(1,n+1):\n",
        "  d[i]=i*i\n",
        "print(d)\n"
      ]
    },
    {
      "cell_type": "code",
      "execution_count": null,
      "metadata": {
        "colab": {
          "base_uri": "https://localhost:8080/"
        },
        "id": "E_MTC4uCqWZy",
        "outputId": "53aba499-2aa0-47a7-88e1-cca151483f50"
      },
      "outputs": [
        {
          "name": "stdout",
          "output_type": "stream",
          "text": [
            "enter a number8\n",
            "40320\n"
          ]
        }
      ],
      "source": [
        "#write a programe which can compute the factorial of a given numbers.\n",
        "#the result should be printed in a comma-separated sequence on a single line.\n",
        "\n",
        "def factorial():\n",
        "  n=int(input(\"enter a number\"))\n",
        "  fact=1\n",
        "  for i in range(1,n+1):\n",
        "    fact=fact*i\n",
        "  print(fact)  \n",
        "factorial()  \n",
        "              \n"
      ]
    },
    {
      "cell_type": "markdown",
      "metadata": {
        "id": "wSzA0ad6tRvC"
      },
      "source": [
        "# write a programe which accept a sequence of comma-separated numbers from console and generate a list and a tuple which contains every number."
      ]
    },
    {
      "cell_type": "code",
      "execution_count": null,
      "metadata": {
        "colab": {
          "base_uri": "https://localhost:8080/"
        },
        "id": "qShwl5-Ht2PZ",
        "outputId": "17a268b5-adee-40d3-ac07-dcb8f1c2e9ed"
      },
      "outputs": [
        {
          "name": "stdout",
          "output_type": "stream",
          "text": [
            "enter numbers:44,77,88,76\n",
            "('44', '77', '88', '76')\n",
            "['44', '77', '88', '76']\n"
          ]
        }
      ],
      "source": [
        "values=(input(\"enter numbers:\"))\n",
        "l=values.split(\",\")\n",
        "t=tuple(l)\n",
        "print(t)\n",
        "print(l)"
      ]
    },
    {
      "cell_type": "markdown",
      "metadata": {
        "id": "0MfWhM-rxeBv"
      },
      "source": [
        "# write a programe that accepts a sentance and calculate the number of upper case and lower case letter."
      ]
    },
    {
      "cell_type": "code",
      "execution_count": null,
      "metadata": {
        "colab": {
          "base_uri": "https://localhost:8080/"
        },
        "id": "NSlgOtKwx4rr",
        "outputId": "aa942158-a37a-47ad-cbde-6510b9ef561f"
      },
      "outputs": [
        {
          "name": "stdout",
          "output_type": "stream",
          "text": [
            "enter a sentanceSahla\n",
            "lowercase is: 4\n",
            "uppercase is: 1\n"
          ]
        }
      ],
      "source": [
        "a=input(\"enter a sentance\")\n",
        "count1=0\n",
        "count2=0\n",
        "for i in a:\n",
        "  if(i.islower()):\n",
        "    count1=count1+1\n",
        "  elif(i.isupper()):\n",
        "    count2=count2+1\n",
        "print(\"lowercase is:\",count1)\n",
        "print(\"uppercase is:\",count2)   "
      ]
    },
    {
      "cell_type": "markdown",
      "metadata": {
        "id": "tnCd_2dI4UWK"
      },
      "source": []
    },
    {
      "cell_type": "markdown",
      "metadata": {
        "id": "i-tuS-3UIg-L"
      },
      "source": [
        "# write a programe that compute the net amount of a bank account based a transaction log from console input.the transaction log format is shown as following\n",
        "d 100\n",
        "w 200\n",
        "d-deposit\n",
        "w-withdrawal"
      ]
    },
    {
      "cell_type": "code",
      "execution_count": null,
      "metadata": {
        "colab": {
          "base_uri": "https://localhost:8080/"
        },
        "id": "kfw8qxhnJ22I",
        "outputId": "9bd90d28-6803-4cc1-aad6-35f251a7adb4"
      },
      "outputs": [
        {
          "name": "stdout",
          "output_type": "stream",
          "text": [
            "D 500\n",
            "D 200\n",
            "W 300\n",
            "\n",
            "balance : 400\n"
          ]
        }
      ],
      "source": [
        "balance=0\n",
        "while True:\n",
        "  t=input()\n",
        "  if t==  \"\":\n",
        "    break\n",
        "  else:\n",
        "    t=t.split(\" \")\n",
        "    if t[0]== \"D\" and int(t[1])>=100:\n",
        "      balance += int(t[1])\n",
        "    elif t[0]== \"W\" and int(t[1])>=200:\n",
        "      balance -= int(t[1])\n",
        "print(\"balance :\",balance)  \n"
      ]
    },
    {
      "cell_type": "code",
      "source": [
        "netamount=0\n",
        "while True:\n",
        "  s=input(\"num\")\n",
        "  if not s:\n",
        "    break\n",
        "  values=s.split(\" \")\n",
        "  operation=values[0]\n",
        "  amout=int(values[1])\n",
        "  if operation==\"D\":\n",
        "    netamount+=amount\n",
        "  elif operation==\"W\":\n",
        "    netamount-=amount\n",
        "  else:\n",
        "    pass\n",
        "print(netamount)       \n",
        "\n"
      ],
      "metadata": {
        "id": "d0Q9byT4navh"
      },
      "execution_count": null,
      "outputs": []
    },
    {
      "cell_type": "code",
      "execution_count": null,
      "metadata": {
        "id": "cGyFiLCv5IPN"
      },
      "outputs": [],
      "source": [
        "l=[]\n",
        "n=int(input(\"enter a number\"))\n",
        "for i in range(1,n+1):\n",
        "  l[i]=i\n",
        "print(l)"
      ]
    },
    {
      "cell_type": "code",
      "execution_count": null,
      "metadata": {
        "id": "4enLwhAS85yq"
      },
      "outputs": [],
      "source": [
        "values=input(\"enter numbers:\")\n",
        "for i in range(1,values+1):\n",
        "   l=values.split(\",\")\n",
        "   i+=1\n",
        "print(l)"
      ]
    },
    {
      "cell_type": "code",
      "source": [],
      "metadata": {
        "id": "XIq2bMpSo2DF"
      },
      "execution_count": null,
      "outputs": []
    },
    {
      "cell_type": "markdown",
      "source": [
        "Define a function that can accept two string as input and print the string with maximum length in console.if two strings have the same length,then the function should print all string line by line"
      ],
      "metadata": {
        "id": "fkIHS1GZpkXq"
      }
    },
    {
      "cell_type": "code",
      "source": [
        "def max():\n",
        "  a=input(\"enter a string\")\n",
        "  b=input(\"enter string2\")\n",
        "  if len(a)>len(b):\n",
        "     print(a)\n",
        "  elif len(a)==len(b):\n",
        "     print(a)\n",
        "     print(b)  \n",
        "  else:\n",
        "     print(b)\n",
        "max()   "
      ],
      "metadata": {
        "colab": {
          "base_uri": "https://localhost:8080/"
        },
        "id": "PknWje1iqHoW",
        "outputId": "a32ce5c0-2b56-4d81-e8d7-dd4706f3e4ec"
      },
      "execution_count": null,
      "outputs": [
        {
          "output_type": "stream",
          "name": "stdout",
          "text": [
            "enter a stringsana\n",
            "enter string2sahlaaa\n",
            "sahlaaa\n"
          ]
        }
      ]
    },
    {
      "cell_type": "code",
      "source": [
        "def string(s1,s2):\n",
        "  len1=len(s1)\n",
        "  len2=len(s2)\n",
        "  if len(s1)>len(s2):\n",
        "    print(s1)\n",
        "  elif len(s1)<len(s2):\n",
        "    print(s2)\n",
        "  else:\n",
        "    print(s1)\n",
        "    print(s2)\n",
        "string(\"five\",\"two\")       \n"
      ],
      "metadata": {
        "colab": {
          "base_uri": "https://localhost:8080/"
        },
        "id": "gMzCuKLbsOT6",
        "outputId": "891827f9-f085-4a60-816d-4ebfb7284e65"
      },
      "execution_count": null,
      "outputs": [
        {
          "output_type": "stream",
          "name": "stdout",
          "text": [
            "five\n"
          ]
        }
      ]
    },
    {
      "cell_type": "markdown",
      "source": [
        "Define a function which can print a dictionary where the keys are numbers between 1 and 20(both included) and the values are squre of keys"
      ],
      "metadata": {
        "id": "Hr-ZDM8at0iU"
      }
    },
    {
      "cell_type": "code",
      "source": [
        "def dic():\n",
        "  d={}\n",
        "  for i in range(1,21):\n",
        "    d[i]=i*i\n",
        "  print(d)\n",
        "dic()  \n",
        "\n",
        "\n"
      ],
      "metadata": {
        "colab": {
          "base_uri": "https://localhost:8080/"
        },
        "id": "-D9xA8ZtuUsP",
        "outputId": "cc79807f-a7a6-40f8-ead4-221f4501744c"
      },
      "execution_count": null,
      "outputs": [
        {
          "output_type": "stream",
          "name": "stdout",
          "text": [
            "{1: 1, 2: 4, 3: 9, 4: 16, 5: 25, 6: 36, 7: 49, 8: 64, 9: 81, 10: 100, 11: 121, 12: 144, 13: 169, 14: 196, 15: 225, 16: 256, 17: 289, 18: 324, 19: 361, 20: 400}\n"
          ]
        }
      ]
    },
    {
      "cell_type": "markdown",
      "source": [
        "Define a function which can generate a list where the values are  squre of numbers between 1 and 20(botn included).then the function need to print the last 5 elements in the list"
      ],
      "metadata": {
        "id": "UwTXbCirwqzv"
      }
    },
    {
      "cell_type": "code",
      "source": [
        "def sqr():\n",
        "  l=[]\n",
        "  for i in range(1,21):\n",
        "    l.append(i*i)\n",
        "  print(l[-5:])  \n",
        "sqr()  "
      ],
      "metadata": {
        "colab": {
          "base_uri": "https://localhost:8080/"
        },
        "id": "KixEKNbixOcX",
        "outputId": "e733961d-b87a-462c-9c7d-3b633ca98035"
      },
      "execution_count": null,
      "outputs": [
        {
          "output_type": "stream",
          "name": "stdout",
          "text": [
            "[256, 289, 324, 361, 400]\n"
          ]
        }
      ]
    },
    {
      "cell_type": "markdown",
      "source": [
        "with a given tuple (1,2,3,4,5,6,7,8,9,10),write a programe to print the first half values in one line and the last half values in another line"
      ],
      "metadata": {
        "id": "HllJd0s7zh6C"
      }
    },
    {
      "cell_type": "code",
      "source": [
        "a=(1,2,3,4,5,6,7,8,9,10)\n",
        "print(a[:5])\n",
        "print(a[5:])\n",
        " "
      ],
      "metadata": {
        "colab": {
          "base_uri": "https://localhost:8080/"
        },
        "id": "SnoEcp560AoB",
        "outputId": "5e299283-e555-40a1-8255-a22b841a7427"
      },
      "execution_count": null,
      "outputs": [
        {
          "output_type": "stream",
          "name": "stdout",
          "text": [
            "(1, 2, 3, 4, 5)\n",
            "(6, 7, 8, 9, 10)\n"
          ]
        }
      ]
    },
    {
      "cell_type": "markdown",
      "source": [
        "write a programe which accepts a string as input to print \"Yes\"if the string is \"yes\" or\"YES\"or\"yes\",otherwise print \"NO\""
      ],
      "metadata": {
        "id": "w0w-U6Zl1Tk9"
      }
    },
    {
      "cell_type": "code",
      "source": [
        "a=input(\"enter string :\")\n",
        "if a==\"YES\"or a==\"yes\"or a==\"Yes\":\n",
        "  print(\"Yes\")\n",
        "else:\n",
        "  print(\"NO\")  \n",
        "\n"
      ],
      "metadata": {
        "colab": {
          "base_uri": "https://localhost:8080/"
        },
        "id": "8534fgD_1wyN",
        "outputId": "e54b6dfa-efcb-4dca-c2a5-65a439088ccb"
      },
      "execution_count": null,
      "outputs": [
        {
          "output_type": "stream",
          "name": "stdout",
          "text": [
            "enter string :YES\n",
            "Yes\n"
          ]
        }
      ]
    },
    {
      "cell_type": "markdown",
      "source": [
        "write a programe which can filter even numbers in the list by using filter function.the list is:[1,2,3,4,5,6,7,8,9,10]."
      ],
      "metadata": {
        "id": "xDjzXO3O23mS"
      }
    },
    {
      "cell_type": "code",
      "source": [
        "\n",
        "l=[1,2,3,4,5,6,7,8,9,10]\n",
        "result = filter(lambda x: x % 2 == 0, l)\n",
        "print(list(result))"
      ],
      "metadata": {
        "colab": {
          "base_uri": "https://localhost:8080/"
        },
        "id": "MGYq-Rqv3MbG",
        "outputId": "0bf4258b-83d7-4492-bb8b-990884468054"
      },
      "execution_count": null,
      "outputs": [
        {
          "output_type": "stream",
          "name": "stdout",
          "text": [
            "[2, 4, 6, 8, 10]\n"
          ]
        }
      ]
    },
    {
      "cell_type": "code",
      "source": [
        "list1=[1,2,3,4,5,6,7,8,9,10]\n",
        "def is_even(x):\n",
        "  return x % 2==0\n",
        "list2=list(filter(is_even,list1))\n",
        "print(list2)  "
      ],
      "metadata": {
        "colab": {
          "base_uri": "https://localhost:8080/"
        },
        "id": "xtOoNQj66st8",
        "outputId": "8a812a9a-5162-4736-b90b-5b662a08e7ff"
      },
      "execution_count": null,
      "outputs": [
        {
          "output_type": "stream",
          "name": "stdout",
          "text": [
            "[2, 4, 6, 8, 10]\n"
          ]
        }
      ]
    },
    {
      "cell_type": "markdown",
      "source": [
        "please write a program to generate all sentences where subject is in [\"I\",\"YOU\"] and verb is in [\"play\",\"Love\"]and the object is in [\"Hockey\",\"Football\"].\n"
      ],
      "metadata": {
        "id": "gVXv38NN9BUi"
      }
    },
    {
      "cell_type": "code",
      "source": [
        "sub=[\"I\",\"YOU\"]\n",
        "verb=[\"Play\",\"Love\"]\n",
        "obj=[\"Hockey\",\"Football\"]\n",
        "for i in sub:\n",
        "  for j in verb:\n",
        "    for k in obj:\n",
        "       print(i+\" \"+j+\" \"+k)      "
      ],
      "metadata": {
        "colab": {
          "base_uri": "https://localhost:8080/"
        },
        "id": "drWc5soc-io_",
        "outputId": "6be7d22e-ce5b-4098-adc9-6ebb5335912e"
      },
      "execution_count": null,
      "outputs": [
        {
          "output_type": "stream",
          "name": "stdout",
          "text": [
            "I Play Hockey\n",
            "I Play Football\n",
            "I Love Hockey\n",
            "I Love Football\n",
            "YOU Play Hockey\n",
            "YOU Play Football\n",
            "YOU Love Hockey\n",
            "YOU Love Football\n"
          ]
        }
      ]
    }
  ],
  "metadata": {
    "colab": {
      "provenance": []
    },
    "kernelspec": {
      "display_name": "Python 3",
      "name": "python3"
    },
    "language_info": {
      "name": "python"
    }
  },
  "nbformat": 4,
  "nbformat_minor": 0
}